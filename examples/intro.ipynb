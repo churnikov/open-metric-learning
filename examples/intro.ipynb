{
 "cells": [
  {
   "cell_type": "code",
   "execution_count": null,
   "id": "26ba0050",
   "metadata": {},
   "outputs": [],
   "source": [
    "!pip install git+https://github.com/OML-Team/open-metric-learning.git"
   ]
  },
  {
   "cell_type": "code",
   "execution_count": 1,
   "id": "e10de02f",
   "metadata": {},
   "outputs": [
    {
     "name": "stdout",
     "output_type": "stream",
     "text": [
      "Found existing installation: Pillow 9.0.0\n",
      "Uninstalling Pillow-9.0.0:\n",
      "  Successfully uninstalled Pillow-9.0.0\n",
      "Collecting Pillow==9.0.0\n",
      "  Using cached Pillow-9.0.0-cp310-cp310-macosx_11_0_arm64.whl (2.7 MB)\n",
      "Installing collected packages: Pillow\n",
      "\u001b[31mERROR: pip's dependency resolver does not currently take into account all the packages that are installed. This behaviour is the source of the following dependency conflicts.\n",
      "open-metric-learning 0.3.1 requires pillow==9.2.0, but you have pillow 9.0.0 which is incompatible.\u001b[0m\u001b[31m\n",
      "\u001b[0mSuccessfully installed Pillow-9.0.0\n",
      "\n",
      "\u001b[1m[\u001b[0m\u001b[34;49mnotice\u001b[0m\u001b[1;39;49m]\u001b[0m\u001b[39;49m A new release of pip available: \u001b[0m\u001b[31;49m22.2.2\u001b[0m\u001b[39;49m -> \u001b[0m\u001b[32;49m22.3\u001b[0m\n",
      "\u001b[1m[\u001b[0m\u001b[34;49mnotice\u001b[0m\u001b[1;39;49m]\u001b[0m\u001b[39;49m To update, run: \u001b[0m\u001b[32;49mpip install --upgrade pip\u001b[0m\n"
     ]
    }
   ],
   "source": [
    "!pip uninstall -y Pillow\n",
    "!pip install Pillow==9.0.0"
   ]
  },
  {
   "cell_type": "code",
   "execution_count": 4,
   "id": "eb0148f5",
   "metadata": {},
   "outputs": [
    {
     "name": "stdout",
     "output_type": "stream",
     "text": [
      "Found existing installation: numpy 1.21.6\n",
      "Uninstalling numpy-1.21.6:\n",
      "  Successfully uninstalled numpy-1.21.6\n",
      "Found existing installation: pandas 1.1.5\n",
      "Uninstalling pandas-1.1.5:\n",
      "  Successfully uninstalled pandas-1.1.5\n",
      "Collecting numpy\n",
      "  Using cached numpy-1.23.4-cp310-cp310-macosx_11_0_arm64.whl (13.3 MB)\n",
      "Collecting pandas\n",
      "  Downloading pandas-1.5.1-cp310-cp310-macosx_11_0_arm64.whl (10.8 MB)\n",
      "\u001b[2K     \u001b[38;2;114;156;31m━━━━━━━━━━━━━━━━━━━━━━━━━━━━━━━━━━━━━━━━\u001b[0m \u001b[32m10.8/10.8 MB\u001b[0m \u001b[31m26.7 MB/s\u001b[0m eta \u001b[36m0:00:00\u001b[0mm eta \u001b[36m0:00:01\u001b[0m36m0:00:01\u001b[0m\n",
      "\u001b[?25hRequirement already satisfied: python-dateutil>=2.8.1 in /Users/nikch187/Projects/personal/oss/open-metric-learning/venv/lib/python3.10/site-packages (from pandas) (2.8.2)\n",
      "Requirement already satisfied: pytz>=2020.1 in /Users/nikch187/Projects/personal/oss/open-metric-learning/venv/lib/python3.10/site-packages (from pandas) (2022.5)\n",
      "Requirement already satisfied: six>=1.5 in /Users/nikch187/Projects/personal/oss/open-metric-learning/venv/lib/python3.10/site-packages (from python-dateutil>=2.8.1->pandas) (1.16.0)\n",
      "Installing collected packages: numpy, pandas\n",
      "\u001b[31mERROR: pip's dependency resolver does not currently take into account all the packages that are installed. This behaviour is the source of the following dependency conflicts.\n",
      "open-metric-learning 0.3.1 requires numpy==1.21.6, but you have numpy 1.23.4 which is incompatible.\n",
      "open-metric-learning 0.3.1 requires pandas==1.1.5, but you have pandas 1.5.1 which is incompatible.\n",
      "open-metric-learning 0.3.1 requires pillow==9.2.0, but you have pillow 9.0.0 which is incompatible.\u001b[0m\u001b[31m\n",
      "\u001b[0mSuccessfully installed numpy-1.23.4 pandas-1.5.1\n",
      "\n",
      "\u001b[1m[\u001b[0m\u001b[34;49mnotice\u001b[0m\u001b[1;39;49m]\u001b[0m\u001b[39;49m A new release of pip available: \u001b[0m\u001b[31;49m22.2.2\u001b[0m\u001b[39;49m -> \u001b[0m\u001b[32;49m22.3\u001b[0m\n",
      "\u001b[1m[\u001b[0m\u001b[34;49mnotice\u001b[0m\u001b[1;39;49m]\u001b[0m\u001b[39;49m To update, run: \u001b[0m\u001b[32;49mpip install --upgrade pip\u001b[0m\n"
     ]
    }
   ],
   "source": [
    "!pip uninstall -y numpy pandas\n",
    "!pip install numpy pandas"
   ]
  },
  {
   "cell_type": "code",
   "execution_count": 1,
   "id": "d1bb93c7",
   "metadata": {},
   "outputs": [
    {
     "data": {
      "application/vnd.jupyter.widget-view+json": {
       "model_id": "54ab48bbd4b54d3e8181896d3a336de5",
       "version_major": 2,
       "version_minor": 0
      },
      "text/plain": [
       "  0%|          | 0/27 [00:00<?, ?it/s]"
      ]
     },
     "metadata": {},
     "output_type": "display_data"
    },
    {
     "name": "stdout",
     "output_type": "stream",
     "text": [
      "https://dl.fbaipublicfiles.com/dino/dino_deitsmall16_pretrain/dino_deitsmall16_pretrain.pth\n",
      "Downloading checkpoint...\n"
     ]
    },
    {
     "name": "stderr",
     "output_type": "stream",
     "text": [
      "100%|███████████████████| 2/2 [00:00<00:00,  7.25it/s]\n"
     ]
    }
   ],
   "source": [
    "import torch\n",
    "from tqdm import tqdm\n",
    "\n",
    "from oml.datasets.base import DatasetWithLabels\n",
    "from oml.losses.triplet import TripletLossWithMiner\n",
    "from oml.miners.inbatch_all_tri import AllTripletsMiner\n",
    "from oml.models.vit.vit import ViTExtractor\n",
    "from oml.samplers.balance import BalanceSampler\n",
    "from oml.utils.download_mock_dataset import download_mock_dataset\n",
    "\n",
    "dataset_root = \"mock_dataset/\"\n",
    "df_train, _ = download_mock_dataset(dataset_root)\n",
    "\n",
    "model = ViTExtractor(\"vits16_dino\", arch=\"vits16\", normalise_features=False).train()\n",
    "optimizer = torch.optim.SGD(model.parameters(), lr=1e-6)\n",
    "\n",
    "train_dataset = DatasetWithLabels(df_train, dataset_root=dataset_root)\n",
    "criterion = TripletLossWithMiner(margin=0.1, miner=AllTripletsMiner())\n",
    "sampler = BalanceSampler(train_dataset.get_labels(), n_labels=2, n_instances=2)\n",
    "train_loader = torch.utils.data.DataLoader(train_dataset, batch_sampler=sampler)\n",
    "\n",
    "for batch in tqdm(train_loader):\n",
    "    embeddings = model(batch[\"input_tensors\"])\n",
    "    loss = criterion(embeddings, batch[\"labels\"])\n",
    "    loss.backward()\n",
    "    optimizer.step()\n",
    "    optimizer.zero_grad()"
   ]
  },
  {
   "cell_type": "code",
   "execution_count": 2,
   "id": "ee8a4003",
   "metadata": {},
   "outputs": [
    {
     "name": "stdout",
     "output_type": "stream",
     "text": [
      "Mock dataset has been downloaded already.\n",
      "https://dl.fbaipublicfiles.com/dino/dino_deitsmall16_pretrain/dino_deitsmall16_pretrain.pth\n",
      "Checkpoint is already here.\n"
     ]
    },
    {
     "name": "stderr",
     "output_type": "stream",
     "text": [
      "100%|███████████████████| 3/3 [00:00<00:00, 28.85it/s]"
     ]
    },
    {
     "name": "stdout",
     "output_type": "stream",
     "text": [
      "\n",
      "Metrics:\n",
      "{'OVERALL': {'cmc': {5: tensor(1.)},\n",
      "             'map': {5: tensor(0.9375)},\n",
      "             'precision': {5: tensor(1.)}}}\n"
     ]
    },
    {
     "name": "stderr",
     "output_type": "stream",
     "text": [
      "\n"
     ]
    }
   ],
   "source": [
    "import torch\n",
    "from tqdm import tqdm\n",
    "\n",
    "from oml.datasets.base import DatasetQueryGallery\n",
    "from oml.metrics.embeddings import EmbeddingMetrics\n",
    "from oml.models.vit.vit import ViTExtractor\n",
    "from oml.utils.download_mock_dataset import download_mock_dataset\n",
    "\n",
    "dataset_root =  \"mock_dataset/\"\n",
    "_, df_val = download_mock_dataset(dataset_root)\n",
    "\n",
    "model = ViTExtractor(\"vits16_dino\", arch=\"vits16\", normalise_features=False).eval()\n",
    "\n",
    "val_dataset = DatasetQueryGallery(df_val, dataset_root=dataset_root)\n",
    "\n",
    "val_loader = torch.utils.data.DataLoader(val_dataset, batch_size=4)\n",
    "calculator = EmbeddingMetrics()\n",
    "calculator.setup(num_samples=len(val_dataset))\n",
    "\n",
    "with torch.no_grad():\n",
    "    for batch in tqdm(val_loader):\n",
    "        batch[\"embeddings\"] = model(batch[\"input_tensors\"])\n",
    "        calculator.update_data(batch)\n",
    "\n",
    "metrics = calculator.compute_metrics()"
   ]
  },
  {
   "cell_type": "code",
   "execution_count": null,
   "id": "d84dc8d9",
   "metadata": {},
   "outputs": [],
   "source": []
  }
 ],
 "metadata": {
  "kernelspec": {
   "display_name": "Python 3 (ipykernel)",
   "language": "python",
   "name": "python3"
  },
  "language_info": {
   "codemirror_mode": {
    "name": "ipython",
    "version": 3
   },
   "file_extension": ".py",
   "mimetype": "text/x-python",
   "name": "python",
   "nbconvert_exporter": "python",
   "pygments_lexer": "ipython3",
   "version": "3.10.8"
  }
 },
 "nbformat": 4,
 "nbformat_minor": 5
}
